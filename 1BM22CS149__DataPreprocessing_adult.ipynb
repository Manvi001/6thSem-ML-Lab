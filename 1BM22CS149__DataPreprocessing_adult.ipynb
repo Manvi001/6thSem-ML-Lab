{
  "nbformat": 4,
  "nbformat_minor": 0,
  "metadata": {
    "colab": {
      "provenance": []
    },
    "kernelspec": {
      "name": "python3",
      "display_name": "Python 3"
    },
    "language_info": {
      "name": "python"
    }
  },
  "cells": [
    {
      "cell_type": "code",
      "execution_count": null,
      "metadata": {
        "id": "UE1J1IDVQYY8"
      },
      "outputs": [],
      "source": [
        "#Activiy1 - Write python code , consider filename as “housing.csv”"
      ]
    },
    {
      "cell_type": "code",
      "source": [
        "import pandas as pd\n",
        "\n",
        "# i. To load .csv file into the data frame\n",
        "filename = \"/housing.csv\"\n",
        "df = pd.read_csv(filename)"
      ],
      "metadata": {
        "id": "rvLGHaOzQ58r"
      },
      "execution_count": 2,
      "outputs": []
    },
    {
      "cell_type": "code",
      "source": [
        "# ii. To display information of all columns\n",
        "print(\"Information of all columns:\")\n",
        "print(df.info())\n"
      ],
      "metadata": {
        "colab": {
          "base_uri": "https://localhost:8080/"
        },
        "id": "Cddqg7pAQ9Mi",
        "outputId": "c7431f38-5175-46dd-d559-766eb1cc22c9"
      },
      "execution_count": 3,
      "outputs": [
        {
          "output_type": "stream",
          "name": "stdout",
          "text": [
            "Information of all columns:\n",
            "<class 'pandas.core.frame.DataFrame'>\n",
            "RangeIndex: 5000 entries, 0 to 4999\n",
            "Data columns (total 7 columns):\n",
            " #   Column                        Non-Null Count  Dtype  \n",
            "---  ------                        --------------  -----  \n",
            " 0   Avg. Area Income              5000 non-null   float64\n",
            " 1   Avg. Area House Age           5000 non-null   float64\n",
            " 2   Avg. Area Number of Rooms     5000 non-null   float64\n",
            " 3   Avg. Area Number of Bedrooms  5000 non-null   float64\n",
            " 4   Area Population               5000 non-null   float64\n",
            " 5   Price                         5000 non-null   float64\n",
            " 6   Address                       5000 non-null   object \n",
            "dtypes: float64(6), object(1)\n",
            "memory usage: 273.6+ KB\n",
            "None\n"
          ]
        }
      ]
    },
    {
      "cell_type": "code",
      "source": [
        "\n",
        "# iii. To display statistical information of all numerical columns\n",
        "print(\"\\nStatistical information of all numerical columns:\")\n",
        "print(df.describe())"
      ],
      "metadata": {
        "colab": {
          "base_uri": "https://localhost:8080/"
        },
        "id": "O0vYp3m6RK8y",
        "outputId": "8731f834-50a0-4ab0-bcd8-05a023c255cb"
      },
      "execution_count": 4,
      "outputs": [
        {
          "output_type": "stream",
          "name": "stdout",
          "text": [
            "\n",
            "Statistical information of all numerical columns:\n",
            "       Avg. Area Income  Avg. Area House Age  Avg. Area Number of Rooms  \\\n",
            "count       5000.000000          5000.000000                5000.000000   \n",
            "mean       68583.108984             5.977222                   6.987792   \n",
            "std        10657.991214             0.991456                   1.005833   \n",
            "min        17796.631190             2.644304                   3.236194   \n",
            "25%        61480.562390             5.322283                   6.299250   \n",
            "50%        68804.286405             5.970429                   7.002902   \n",
            "75%        75783.338665             6.650808                   7.665871   \n",
            "max       107701.748400             9.519088                  10.759588   \n",
            "\n",
            "       Avg. Area Number of Bedrooms  Area Population         Price  \n",
            "count                   5000.000000      5000.000000  5.000000e+03  \n",
            "mean                       3.981330     36163.516039  1.232073e+06  \n",
            "std                        1.234137      9925.650114  3.531176e+05  \n",
            "min                        2.000000       172.610686  1.593866e+04  \n",
            "25%                        3.140000     29403.928700  9.975771e+05  \n",
            "50%                        4.050000     36199.406690  1.232669e+06  \n",
            "75%                        4.490000     42861.290770  1.471210e+06  \n",
            "max                        6.500000     69621.713380  2.469066e+06  \n"
          ]
        }
      ]
    },
    {
      "cell_type": "code",
      "source": [
        "print(df.head())"
      ],
      "metadata": {
        "colab": {
          "base_uri": "https://localhost:8080/"
        },
        "id": "aMWoXFwLRYyL",
        "outputId": "8758ff7a-fb3f-4b7e-d0d4-f802b5e52732"
      },
      "execution_count": 6,
      "outputs": [
        {
          "output_type": "stream",
          "name": "stdout",
          "text": [
            "   Avg. Area Income  Avg. Area House Age  Avg. Area Number of Rooms  \\\n",
            "0       79545.45857             5.682861                   7.009188   \n",
            "1       79248.64245             6.002900                   6.730821   \n",
            "2       61287.06718             5.865890                   8.512727   \n",
            "3       63345.24005             7.188236                   5.586729   \n",
            "4       59982.19723             5.040555                   7.839388   \n",
            "\n",
            "   Avg. Area Number of Bedrooms  Area Population         Price  \\\n",
            "0                          4.09      23086.80050  1.059034e+06   \n",
            "1                          3.09      40173.07217  1.505891e+06   \n",
            "2                          5.13      36882.15940  1.058988e+06   \n",
            "3                          3.26      34310.24283  1.260617e+06   \n",
            "4                          4.23      26354.10947  6.309435e+05   \n",
            "\n",
            "                                             Address  \n",
            "0  208 Michael Ferry Apt. 674\\nLaurabury, NE 3701...  \n",
            "1  188 Johnson Views Suite 079\\nLake Kathleen, CA...  \n",
            "2  9127 Elizabeth Stravenue\\nDanieltown, WI 06482...  \n",
            "3                          USS Barnett\\nFPO AP 44820  \n",
            "4                         USNS Raymond\\nFPO AE 09386  \n"
          ]
        }
      ]
    },
    {
      "cell_type": "code",
      "source": [
        "# iv. To display the count of unique labels for the \"Ocean Proximity\" column\n",
        "print(\"\\nCount of unique labels for 'Ocean Proximity' column:\")\n",
        "print(df['Area Population'].value_counts())"
      ],
      "metadata": {
        "colab": {
          "base_uri": "https://localhost:8080/"
        },
        "id": "ajxeuZhaRNDS",
        "outputId": "42f60e9b-dc02-4d80-8e81-ee2310661dbb"
      },
      "execution_count": 7,
      "outputs": [
        {
          "output_type": "stream",
          "name": "stdout",
          "text": [
            "\n",
            "Count of unique labels for 'Ocean Proximity' column:\n",
            "Area Population\n",
            "23086.80050    1\n",
            "27640.56129    1\n",
            "43555.46064    1\n",
            "44198.33581    1\n",
            "43154.83863    1\n",
            "              ..\n",
            "44561.33359    1\n",
            "28995.96414    1\n",
            "49457.17937    1\n",
            "13981.43549    1\n",
            "46501.28380    1\n",
            "Name: count, Length: 5000, dtype: int64\n"
          ]
        }
      ]
    },
    {
      "cell_type": "code",
      "source": [
        "# v. To display which attributes (columns) in a dataset have missing values count greater than zero\n",
        "print(\"\\nColumns with missing values:\")\n",
        "print(df.isnull().sum()[df.isnull().sum() > 0])"
      ],
      "metadata": {
        "colab": {
          "base_uri": "https://localhost:8080/"
        },
        "id": "CSZbwQIVRPKp",
        "outputId": "041d9c8e-a95b-4139-9d9c-72a5ed61e0f8"
      },
      "execution_count": 8,
      "outputs": [
        {
          "output_type": "stream",
          "name": "stdout",
          "text": [
            "\n",
            "Columns with missing values:\n",
            "Series([], dtype: int64)\n"
          ]
        }
      ]
    },
    {
      "cell_type": "code",
      "source": [
        "#ACtivity 2 -adult Dataset"
      ],
      "metadata": {
        "id": "vkIwicJ2RyPy"
      },
      "execution_count": null,
      "outputs": []
    },
    {
      "cell_type": "code",
      "source": [
        "import pandas as pd\n",
        "import numpy as np\n",
        "from sklearn.preprocessing import MinMaxScaler, StandardScaler, LabelEncoder\n",
        "\n",
        "# Load the dataset directly from the provided data (assuming it's in CSV-like format)\n",
        "data = pd.read_csv('/adult.csv')  # Replace with actual file path if needed"
      ],
      "metadata": {
        "id": "xG-UkaBjTDJC"
      },
      "execution_count": 10,
      "outputs": []
    },
    {
      "cell_type": "code",
      "source": [
        "# Display initial info about the dataset\n",
        "print(\"Initial Dataset Info:\")\n",
        "print(data.info())\n",
        "print(\"\\nMissing Values:\")\n",
        "print(data.isnull().sum())\n"
      ],
      "metadata": {
        "colab": {
          "base_uri": "https://localhost:8080/"
        },
        "id": "ZvrQ143MTGYB",
        "outputId": "09485ec3-b511-49f5-9821-38393d96b466"
      },
      "execution_count": 11,
      "outputs": [
        {
          "output_type": "stream",
          "name": "stdout",
          "text": [
            "Initial Dataset Info:\n",
            "<class 'pandas.core.frame.DataFrame'>\n",
            "RangeIndex: 48842 entries, 0 to 48841\n",
            "Data columns (total 15 columns):\n",
            " #   Column           Non-Null Count  Dtype \n",
            "---  ------           --------------  ----- \n",
            " 0   age              48842 non-null  int64 \n",
            " 1   workclass        48842 non-null  object\n",
            " 2   fnlwgt           48842 non-null  int64 \n",
            " 3   education        48842 non-null  object\n",
            " 4   educational-num  48842 non-null  int64 \n",
            " 5   marital-status   48842 non-null  object\n",
            " 6   occupation       48842 non-null  object\n",
            " 7   relationship     48842 non-null  object\n",
            " 8   race             48842 non-null  object\n",
            " 9   gender           48842 non-null  object\n",
            " 10  capital-gain     48842 non-null  int64 \n",
            " 11  capital-loss     48842 non-null  int64 \n",
            " 12  hours-per-week   48842 non-null  int64 \n",
            " 13  native-country   48842 non-null  object\n",
            " 14  income           48842 non-null  object\n",
            "dtypes: int64(6), object(9)\n",
            "memory usage: 5.6+ MB\n",
            "None\n",
            "\n",
            "Missing Values:\n",
            "age                0\n",
            "workclass          0\n",
            "fnlwgt             0\n",
            "education          0\n",
            "educational-num    0\n",
            "marital-status     0\n",
            "occupation         0\n",
            "relationship       0\n",
            "race               0\n",
            "gender             0\n",
            "capital-gain       0\n",
            "capital-loss       0\n",
            "hours-per-week     0\n",
            "native-country     0\n",
            "income             0\n",
            "dtype: int64\n"
          ]
        }
      ]
    },
    {
      "cell_type": "code",
      "source": [
        "# Display sample before replacement\n",
        "print(\"Sample Before Replacement:\")\n",
        "print(data.head())\n",
        "\n",
        "# Step 1: Handling Missing Values\n",
        "# Replace '?' with 'unknown' directly\n",
        "data.replace('?', 'unknown', inplace=True)\n",
        "\n",
        "# Display sample after replacement\n",
        "print(\"\\nSample After Replacement:\")\n",
        "print(data.head())\n",
        "\n",
        "# Verify no '?' remains\n",
        "print(\"\\nCount of '?' After Replacement:\")\n",
        "print(data.isin(['?']).sum())"
      ],
      "metadata": {
        "colab": {
          "base_uri": "https://localhost:8080/"
        },
        "id": "Je-ODUHFTMz5",
        "outputId": "68771ee3-efeb-47e4-cb32-adfbabe97658"
      },
      "execution_count": 14,
      "outputs": [
        {
          "output_type": "stream",
          "name": "stdout",
          "text": [
            "Sample Before Replacement:\n",
            "   age  workclass  fnlwgt     education  educational-num      marital-status  \\\n",
            "0   25    Private  226802          11th                7       Never-married   \n",
            "1   38    Private   89814       HS-grad                9  Married-civ-spouse   \n",
            "2   28  Local-gov  336951    Assoc-acdm               12  Married-civ-spouse   \n",
            "3   44    Private  160323  Some-college               10  Married-civ-spouse   \n",
            "4   18        NaN  103497  Some-college               10       Never-married   \n",
            "\n",
            "          occupation relationship   race  gender  capital-gain  capital-loss  \\\n",
            "0  Machine-op-inspct    Own-child  Black    Male             0             0   \n",
            "1    Farming-fishing      Husband  White    Male             0             0   \n",
            "2    Protective-serv      Husband  White    Male             0             0   \n",
            "3  Machine-op-inspct      Husband  Black    Male          7688             0   \n",
            "4                NaN    Own-child  White  Female             0             0   \n",
            "\n",
            "   hours-per-week native-country income  \n",
            "0              40  United-States  <=50K  \n",
            "1              50  United-States  <=50K  \n",
            "2              40  United-States   >50K  \n",
            "3              40  United-States   >50K  \n",
            "4              30  United-States  <=50K  \n",
            "\n",
            "Sample After Replacement:\n",
            "   age  workclass  fnlwgt     education  educational-num      marital-status  \\\n",
            "0   25    Private  226802          11th                7       Never-married   \n",
            "1   38    Private   89814       HS-grad                9  Married-civ-spouse   \n",
            "2   28  Local-gov  336951    Assoc-acdm               12  Married-civ-spouse   \n",
            "3   44    Private  160323  Some-college               10  Married-civ-spouse   \n",
            "4   18        NaN  103497  Some-college               10       Never-married   \n",
            "\n",
            "          occupation relationship   race  gender  capital-gain  capital-loss  \\\n",
            "0  Machine-op-inspct    Own-child  Black    Male             0             0   \n",
            "1    Farming-fishing      Husband  White    Male             0             0   \n",
            "2    Protective-serv      Husband  White    Male             0             0   \n",
            "3  Machine-op-inspct      Husband  Black    Male          7688             0   \n",
            "4                NaN    Own-child  White  Female             0             0   \n",
            "\n",
            "   hours-per-week native-country income  \n",
            "0              40  United-States  <=50K  \n",
            "1              50  United-States  <=50K  \n",
            "2              40  United-States   >50K  \n",
            "3              40  United-States   >50K  \n",
            "4              30  United-States  <=50K  \n",
            "\n",
            "Count of '?' After Replacement:\n",
            "age                0\n",
            "workclass          0\n",
            "fnlwgt             0\n",
            "education          0\n",
            "educational-num    0\n",
            "marital-status     0\n",
            "occupation         0\n",
            "relationship       0\n",
            "race               0\n",
            "gender             0\n",
            "capital-gain       0\n",
            "capital-loss       0\n",
            "hours-per-week     0\n",
            "native-country     0\n",
            "income             0\n",
            "dtype: int64\n"
          ]
        }
      ]
    },
    {
      "source": [
        "# Step 1: Handling Missing Values\n",
        "# Replace '?' with np.nan\n",
        "data.replace('?', np.nan, inplace=True)\n",
        "\n",
        "# Identify columns with missing values\n",
        "missing_columns = data.columns[data.isnull().any()].tolist()\n",
        "print(\"\\nColumns with Missing Values:\", missing_columns)\n",
        "\n",
        "# Handle missing values\n",
        "# For categorical columns, replace with mode\n",
        "categorical_columns = ['workclass', 'occupation', 'native-country']\n",
        "for col in categorical_columns:\n",
        "    if col in missing_columns:\n",
        "        data[col].fillna(data[col].mode()[0], inplace=True)\n",
        "\n",
        "# Display the head of the DataFrame to see the changes\n",
        "print(data.head())"
      ],
      "cell_type": "code",
      "metadata": {
        "colab": {
          "base_uri": "https://localhost:8080/"
        },
        "id": "hnm4--2JVYxp",
        "outputId": "4e9e25aa-0b44-465b-fcbd-121b90200c80"
      },
      "execution_count": 21,
      "outputs": [
        {
          "output_type": "stream",
          "name": "stdout",
          "text": [
            "\n",
            "Columns with Missing Values: []\n",
            "   age  workclass  fnlwgt     education  educational-num      marital-status  \\\n",
            "0   25    Private  226802          11th                7       Never-married   \n",
            "1   38    Private   89814       HS-grad                9  Married-civ-spouse   \n",
            "2   28  Local-gov  336951    Assoc-acdm               12  Married-civ-spouse   \n",
            "3   44    Private  160323  Some-college               10  Married-civ-spouse   \n",
            "4   18    Private  103497  Some-college               10       Never-married   \n",
            "\n",
            "          occupation relationship   race  gender  capital-gain  capital-loss  \\\n",
            "0  Machine-op-inspct    Own-child  Black    Male             0             0   \n",
            "1    Farming-fishing      Husband  White    Male             0             0   \n",
            "2    Protective-serv      Husband  White    Male             0             0   \n",
            "3  Machine-op-inspct      Husband  Black    Male          7688             0   \n",
            "4     Prof-specialty    Own-child  White  Female             0             0   \n",
            "\n",
            "   hours-per-week native-country income  \n",
            "0              40  United-States  <=50K  \n",
            "1              50  United-States  <=50K  \n",
            "2              40  United-States   >50K  \n",
            "3              40  United-States   >50K  \n",
            "4              30  United-States  <=50K  \n"
          ]
        }
      ]
    },
    {
      "cell_type": "code",
      "source": [
        "# Check remaining missing values\n",
        "print(\"\\nMissing Values After Handling:\")\n",
        "print(data.isnull().sum())"
      ],
      "metadata": {
        "colab": {
          "base_uri": "https://localhost:8080/"
        },
        "id": "p3PZ-mKaVVJA",
        "outputId": "b596598e-ff0d-4264-fc9a-5d8eb2c75aa6"
      },
      "execution_count": 22,
      "outputs": [
        {
          "output_type": "stream",
          "name": "stdout",
          "text": [
            "\n",
            "Missing Values After Handling:\n",
            "age                0\n",
            "workclass          0\n",
            "fnlwgt             0\n",
            "education          0\n",
            "educational-num    0\n",
            "marital-status     0\n",
            "occupation         0\n",
            "relationship       0\n",
            "race               0\n",
            "gender             0\n",
            "capital-gain       0\n",
            "capital-loss       0\n",
            "hours-per-week     0\n",
            "native-country     0\n",
            "income             0\n",
            "dtype: int64\n"
          ]
        }
      ]
    },
    {
      "cell_type": "code",
      "source": [
        "# Step 2: Handling Categorical Data\n",
        "# Identify all categorical columns\n",
        "categorical_cols = data.select_dtypes(include=['object']).columns.tolist()\n",
        "print(\"\\nCategorical Columns:\", categorical_cols)"
      ],
      "metadata": {
        "colab": {
          "base_uri": "https://localhost:8080/"
        },
        "id": "mIk6oGeWVfOB",
        "outputId": "25714268-9910-4e68-d3f3-cccc03e02e86"
      },
      "execution_count": 23,
      "outputs": [
        {
          "output_type": "stream",
          "name": "stdout",
          "text": [
            "\n",
            "Categorical Columns: ['workclass', 'education', 'marital-status', 'occupation', 'relationship', 'race', 'gender', 'native-country', 'income']\n"
          ]
        }
      ]
    },
    {
      "cell_type": "code",
      "source": [
        "# Apply Label Encoding to categorical columns\n",
        "label_encoders = {}\n",
        "for col in categorical_cols:\n",
        "    le = LabelEncoder()\n",
        "    data[col] = le.fit_transform(data[col])\n",
        "    label_encoders[col] = le  # Save encoder for potential inverse transform\n"
      ],
      "metadata": {
        "id": "jKJoxt1tVp5h"
      },
      "execution_count": 24,
      "outputs": []
    },
    {
      "cell_type": "code",
      "source": [
        "# Step 3: Handling Outliers using IQR method\n",
        "def remove_outliers(df, column):\n",
        "    Q1 = df[column].quantile(0.25)\n",
        "    Q3 = df[column].quantile(0.75)\n",
        "    IQR = Q3 - Q1\n",
        "    lower_bound = Q1 - 1.5 * IQR\n",
        "    upper_bound = Q3 + 1.5 * IQR\n",
        "    df = df[(df[column] >= lower_bound) & (df[column] <= upper_bound)]\n",
        "    return df\n",
        "\n",
        "numerical_columns = ['age', 'fnlwgt', 'educational-num', 'capital-gain', 'capital-loss', 'hours-per-week']\n",
        "for col in numerical_columns:\n",
        "    data = remove_outliers(data, col)\n",
        "\n",
        "print(\"\\nDataset Shape After Outlier Removal:\", data.shape)"
      ],
      "metadata": {
        "colab": {
          "base_uri": "https://localhost:8080/"
        },
        "id": "cATHQ2XAVvPR",
        "outputId": "901d9382-9cb1-49fa-b5fe-1417b89129cd"
      },
      "execution_count": 25,
      "outputs": [
        {
          "output_type": "stream",
          "name": "stdout",
          "text": [
            "\n",
            "Dataset Shape After Outlier Removal: (28560, 15)\n"
          ]
        }
      ]
    },
    {
      "cell_type": "code",
      "source": [
        "# 2. Data Transformations\n",
        "# Select numerical columns for scaling\n",
        "features_to_scale = numerical_columns\n",
        "print(features_to_scale)"
      ],
      "metadata": {
        "colab": {
          "base_uri": "https://localhost:8080/"
        },
        "id": "dax-eGtaWNGA",
        "outputId": "d9128553-e37e-4353-8bbb-fe3770c10638"
      },
      "execution_count": 29,
      "outputs": [
        {
          "output_type": "stream",
          "name": "stdout",
          "text": [
            "['age', 'fnlwgt', 'educational-num', 'capital-gain', 'capital-loss', 'hours-per-week']\n"
          ]
        }
      ]
    },
    {
      "cell_type": "code",
      "source": [
        "# Min-Max Scaling\n",
        "min_max_scaler = MinMaxScaler()\n",
        "data_minmax = data.copy()\n",
        "data_minmax[features_to_scale] = min_max_scaler.fit_transform(data[features_to_scale])\n"
      ],
      "metadata": {
        "id": "bWJVXXc6WXEJ"
      },
      "execution_count": 33,
      "outputs": []
    },
    {
      "cell_type": "code",
      "source": [
        "# Standardization (Standard Scaler)\n",
        "standard_scaler = StandardScaler()\n",
        "data_standard = data.copy()\n",
        "data_standard[features_to_scale] = standard_scaler.fit_transform(data[features_to_scale])\n",
        "\n",
        "# Display sample of transformed data\n",
        "print(\"\\nSample of Min-Max Scaled Data:\")\n",
        "print(data_minmax[features_to_scale].head())\n",
        "print(\"\\nSample of Standardized Data:\")\n",
        "print(data_standard[features_to_scale].head())"
      ],
      "metadata": {
        "colab": {
          "base_uri": "https://localhost:8080/"
        },
        "id": "frkef13rWftZ",
        "outputId": "6ef9a7a6-a813-4944-d8d6-20fe28c9241e"
      },
      "execution_count": 35,
      "outputs": [
        {
          "output_type": "stream",
          "name": "stdout",
          "text": [
            "\n",
            "Sample of Min-Max Scaled Data:\n",
            "        age    fnlwgt  educational-num  capital-gain  capital-loss  \\\n",
            "0  0.131148  0.526982         0.181818           0.0           0.0   \n",
            "1  0.344262  0.188113         0.363636           0.0           0.0   \n",
            "2  0.180328  0.799459         0.636364           0.0           0.0   \n",
            "6  0.196721  0.527536         0.363636           0.0           0.0   \n",
            "8  0.114754  0.880389         0.454545           0.0           0.0   \n",
            "\n",
            "   hours-per-week  \n",
            "0        0.368421  \n",
            "1        0.894737  \n",
            "2        0.368421  \n",
            "6        0.368421  \n",
            "8        0.368421  \n",
            "\n",
            "Sample of Standardized Data:\n",
            "        age    fnlwgt  educational-num  capital-gain  capital-loss  \\\n",
            "0 -1.080674  0.532148        -1.511213           0.0           0.0   \n",
            "1 -0.003343 -1.041795        -0.580414           0.0           0.0   \n",
            "2 -0.832059  1.797721         0.815786           0.0           0.0   \n",
            "6 -0.749187  0.534722        -0.580414           0.0           0.0   \n",
            "8 -1.163545  2.173616        -0.115014           0.0           0.0   \n",
            "\n",
            "   hours-per-week  \n",
            "0       -0.371325  \n",
            "1        2.153988  \n",
            "2       -0.371325  \n",
            "6       -0.371325  \n",
            "8       -0.371325  \n"
          ]
        }
      ]
    },
    {
      "cell_type": "code",
      "source": [
        "# Save the preprocessed datasets\n",
        "data_minmax.to_csv('adult_income_minmax.csv', index=False)\n",
        "data_standard.to_csv('adult_income_standard.csv', index=False)"
      ],
      "metadata": {
        "id": "pk8VSl86VitI"
      },
      "execution_count": 36,
      "outputs": []
    },
    {
      "cell_type": "code",
      "source": [
        "##QUERIES"
      ],
      "metadata": {
        "id": "c_VENEQHWWH4"
      },
      "execution_count": 37,
      "outputs": []
    },
    {
      "cell_type": "code",
      "source": [],
      "metadata": {
        "id": "XdVTU6tfXCrA"
      },
      "execution_count": null,
      "outputs": []
    }
  ]
}