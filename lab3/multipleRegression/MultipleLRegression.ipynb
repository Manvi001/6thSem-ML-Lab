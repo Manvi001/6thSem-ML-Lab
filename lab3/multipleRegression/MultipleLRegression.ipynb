{
  "nbformat": 4,
  "nbformat_minor": 0,
  "metadata": {
    "colab": {
      "provenance": []
    },
    "kernelspec": {
      "name": "python3",
      "display_name": "Python 3"
    },
    "language_info": {
      "name": "python"
    }
  },
  "cells": [
    {
      "cell_type": "code",
      "execution_count": null,
      "metadata": {
        "id": "Xq7NJvf2Yjko"
      },
      "outputs": [],
      "source": [
        "#hiring.csv"
      ]
    },
    {
      "cell_type": "code",
      "source": [],
      "metadata": {
        "id": "y90Q6DdSbxHl"
      },
      "execution_count": null,
      "outputs": []
    },
    {
      "source": [
        "import pandas as pd\n",
        "import numpy as np\n",
        "from sklearn.linear_model import LinearRegression\n",
        "from sklearn.preprocessing import LabelEncoder\n",
        "\n",
        "# Load the dataset\n",
        "data = pd.read_csv('/hiring.csv')\n",
        "\n",
        "# Display the first few rows of the dataset\n",
        "print(data.head())\n",
        "\n",
        "# Handle missing values\n",
        "# Fill missing experience with 'zero' and missing test_score with the median\n",
        "data.loc[:, 'experience'] = data['experience'].fillna('zero')  # Using .loc\n",
        "print()\n",
        "print()\n",
        "print(\"after data processing\")\n",
        "print(data)\n",
        "data.loc[:, 'test_score(out of 10)'] = data['test_score(out of 10)'].fillna(data['test_score(out of 10)'].median())  # Using .loc\n",
        "\n",
        "# Convert experience from words to numbers\n",
        "experience_map = {\n",
        "    'zero': 0,\n",
        "    'one': 1,\n",
        "    'two': 2,\n",
        "    'three': 3,\n",
        "    'four': 4,\n",
        "    'five': 5,\n",
        "    'six': 6,\n",
        "    'seven': 7,\n",
        "    'eight': 8,\n",
        "    'nine': 9,\n",
        "    'ten': 10,\n",
        "    'eleven': 11,\n",
        "    'twelve': 12\n",
        "}\n",
        "\n",
        "data['experience'] = data['experience'].map(experience_map)\n",
        "\n",
        "# Prepare the data\n",
        "X = data[['experience', 'test_score(out of 10)', 'interview_score(out of 10)']]  # Features\n",
        "y = data['salary($)']  # Target\n",
        "\n",
        "# Create and train the multiple linear regression model\n",
        "model = LinearRegression()\n",
        "model.fit(X, y)\n",
        "\n",
        "# Predict salaries for the given candidates\n",
        "candidate_1 = pd.DataFrame(np.array([[2, 9, 6]]), columns=['experience', 'test_score(out of 10)', 'interview_score(out of 10)'])  # Feature names included\n",
        "candidate_2 = pd.DataFrame(np.array([[12, 10, 10]]), columns=['experience', 'test_score(out of 10)', 'interview_score(out of 10)'])  # Feature names included\n",
        "print()\n",
        "print()\n",
        "predicted_salary_1 = model.predict(candidate_1)\n",
        "\n",
        "predicted_salary_2 = model.predict(candidate_2)\n",
        "\n",
        "print(f\"Predicted salary for candidate 1 (2 yr experience, 9 test score, 6 interview score): ${predicted_salary_1[0]:.2f}\")\n",
        "print()\n",
        "print(f\"Predicted salary for candidate 2 (12 yr experience, 10 test score, 10 interview score): ${predicted_salary_2[0]:.2f}\")"
      ],
      "cell_type": "code",
      "metadata": {
        "colab": {
          "base_uri": "https://localhost:8080/"
        },
        "id": "1TRIy8vTcgPJ",
        "outputId": "37758db9-d4a3-4bb5-f82e-fd7365a165be"
      },
      "execution_count": 13,
      "outputs": [
        {
          "output_type": "stream",
          "name": "stdout",
          "text": [
            "  experience  test_score(out of 10)  interview_score(out of 10)  salary($)\n",
            "0        NaN                    8.0                           9      50000\n",
            "1        NaN                    8.0                           6      45000\n",
            "2       five                    6.0                           7      60000\n",
            "3        two                   10.0                          10      65000\n",
            "4      seven                    9.0                           6      70000\n",
            "\n",
            "\n",
            "after data processing\n",
            "  experience  test_score(out of 10)  interview_score(out of 10)  salary($)\n",
            "0       zero                    8.0                           9      50000\n",
            "1       zero                    8.0                           6      45000\n",
            "2       five                    6.0                           7      60000\n",
            "3        two                   10.0                          10      65000\n",
            "4      seven                    9.0                           6      70000\n",
            "5      three                    7.0                          10      62000\n",
            "6        ten                    NaN                           7      72000\n",
            "7     eleven                    7.0                           8      80000\n",
            "\n",
            "\n",
            "Predicted salary for candidate 1 (2 yr experience, 9 test score, 6 interview score): $53205.97\n",
            "\n",
            "Predicted salary for candidate 2 (12 yr experience, 10 test score, 10 interview score): $92002.18\n"
          ]
        }
      ]
    },
    {
      "cell_type": "code",
      "source": [
        "#1000companies"
      ],
      "metadata": {
        "id": "PRJg2wnvcgsa"
      },
      "execution_count": null,
      "outputs": []
    },
    {
      "source": [
        "import pandas as pd\n",
        "import numpy as np\n",
        "from sklearn.model_selection import train_test_split\n",
        "from sklearn.linear_model import LinearRegression\n",
        "from sklearn.preprocessing import OneHotEncoder\n",
        "from sklearn.compose import ColumnTransformer\n",
        "\n",
        "# Load the dataset\n",
        "data = pd.read_csv('/1000_Companies.csv')\n",
        "\n",
        "# Display the first few rows of the dataset\n",
        "print(data.head())\n",
        "\n",
        "# Separate features (X) and target (y)\n",
        "X = data[['R&D Spend', 'Administration', 'Marketing Spend', 'State']]\n",
        "y = data['Profit']\n",
        "\n",
        "# Handle categorical variable 'State' using OneHotEncoding\n",
        "ct = ColumnTransformer(transformers=[('encoder', OneHotEncoder(), [3])], remainder='passthrough')\n",
        "X = ct.fit_transform(X)\n",
        "\n",
        "# Split the data into training and testing sets\n",
        "X_train, X_test, y_train, y_test = train_test_split(X, y, test_size=0.2, random_state=42)\n",
        "\n",
        "# Create and train the multiple linear regression model\n",
        "model = LinearRegression()\n",
        "model.fit(X_train, y_train)\n",
        "\n",
        "# Predict profit for the given input\n",
        "# Input: R&D Spend = 91694.48, Administration = 515841.3, Marketing Spend = 11931.24, State = Florida\n",
        "input_data = pd.DataFrame(np.array([[91694.48, 515841.3, 11931.24, 'Florida']]), columns=['R&D Spend', 'Administration', 'Marketing Spend', 'State'])\n",
        "\n",
        "# Transform input data using the same ColumnTransformer\n",
        "input_data_transformed = ct.transform(input_data)\n",
        "\n",
        "predicted_profit = model.predict(input_data_transformed)\n",
        "\n",
        "print(f\"Predicted Profit: ${predicted_profit[0]:.2f}\")"
      ],
      "cell_type": "code",
      "metadata": {
        "colab": {
          "base_uri": "https://localhost:8080/"
        },
        "id": "n8GJjLzqfOQd",
        "outputId": "6001f86e-6951-4ee7-8904-2919e5f34b65"
      },
      "execution_count": 18,
      "outputs": [
        {
          "output_type": "stream",
          "name": "stdout",
          "text": [
            "   R&D Spend  Administration  Marketing Spend       State     Profit\n",
            "0  165349.20       136897.80        471784.10    New York  192261.83\n",
            "1  162597.70       151377.59        443898.53  California  191792.06\n",
            "2  153441.51       101145.55        407934.54     Florida  191050.39\n",
            "3  144372.41       118671.85        383199.62    New York  182901.99\n",
            "4  142107.34        91391.77        366168.42     Florida  166187.94\n",
            "Predicted Profit: $554066.30\n"
          ]
        }
      ]
    },
    {
      "cell_type": "code",
      "source": [],
      "metadata": {
        "id": "st5Y_wlRe-mk"
      },
      "execution_count": null,
      "outputs": []
    }
  ]
}